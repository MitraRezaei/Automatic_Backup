{
  "nbformat": 4,
  "nbformat_minor": 0,
  "metadata": {
    "colab": {
      "provenance": [],
      "authorship_tag": "ABX9TyPXlop3FvbbuTbCv2cyVdRa"
    },
    "kernelspec": {
      "name": "python3",
      "display_name": "Python 3"
    },
    "language_info": {
      "name": "python"
    }
  },
  "cells": [
    {
      "cell_type": "code",
      "execution_count": null,
      "metadata": {
        "id": "PNqRcUohJGal"
      },
      "outputs": [],
      "source": [
        "import numpy as np\n",
        "import matplotlib.pyplot as plt"
      ]
    },
    {
      "cell_type": "code",
      "source": [
        "def generate_data(n, noise=10.0):\n",
        "  np.random.seed(50)\n",
        "  X = np.linspace(-10, 10, n)\n",
        "  # Ground truth line: y = 3x + 8\n",
        "  true_slope = 3\n",
        "  true_intercept = 8\n",
        "  noise = np.random.randn(n) * noise\n",
        "  y = true_slope * X + true_intercept + noise\n",
        "  return X, y"
      ],
      "metadata": {
        "id": "BkjuH9dFJU1Z"
      },
      "execution_count": null,
      "outputs": []
    },
    {
      "cell_type": "code",
      "source": [
        "X, y = generate_data(n=50, noise=10.0)\n",
        "plt.scatter(X, y, color='red', label='Data Points')\n",
        "plt.title('Generated Data Points with Noise')\n",
        "plt.xlabel('x')\n",
        "plt.ylabel('y')\n",
        "plt.legend()\n",
        "plt.show()"
      ],
      "metadata": {
        "id": "aleLes9SMf1i"
      },
      "execution_count": null,
      "outputs": []
    },
    {
      "cell_type": "markdown",
      "source": [
        "# **Implement Linear Regression Solution**"
      ],
      "metadata": {
        "id": "zsP3LbV1OKSF"
      }
    },
    {
      "cell_type": "code",
      "source": [
        "# Hypothesis: h_w(x) = w_0 + w_1 * X_1\n",
        "def h_x(x, w):\n",
        "  return w[0] + w[1] * x\n",
        "\n",
        "def linear_regression(X, y):\n",
        "  X_b = np.c_[np.ones((len(X), 1)), X]\n",
        "  # w = (X^T * X)^-1 * X^T * y\n",
        "  w = np.linalg.inv(X_b.T.dot(X_b)).dot(X_b.T).dot(y)\n",
        "  return w\n",
        "\n",
        "# Get parameter vector w\n",
        "w = linear_regression(X, y)\n",
        "print(f\"Parameters (w): \")\n",
        "print(f\"w_1 = {w[1]:.2f}\")\n",
        "print(f\"w_0 = {w[0]:.2f}\")\n"
      ],
      "metadata": {
        "colab": {
          "base_uri": "https://localhost:8080/"
        },
        "id": "K95G1Kk4OR84",
        "outputId": "5330c156-224f-492a-b2e9-18cd6a4982eb"
      },
      "execution_count": null,
      "outputs": [
        {
          "output_type": "stream",
          "name": "stdout",
          "text": [
            "Parameters (w): \n",
            "w_1 = 3.06\n",
            "w_0 = 8.93\n"
          ]
        }
      ]
    },
    {
      "cell_type": "code",
      "source": [
        "y_prep = h_x(X, w)\n",
        "y_prep"
      ],
      "metadata": {
        "id": "JhVl8LTWQEsU"
      },
      "execution_count": null,
      "outputs": []
    }
  ]
}